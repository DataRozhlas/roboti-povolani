{
 "cells": [
  {
   "cell_type": "code",
   "execution_count": 11,
   "metadata": {},
   "outputs": [],
   "source": [
    "import json, unidecode"
   ]
  },
  {
   "cell_type": "code",
   "execution_count": 12,
   "metadata": {},
   "outputs": [],
   "source": [
    "with open(\"../data/jobs.json\",encoding=\"utf-8\") as file:\n",
    "    jobs = json.loads(file.read())"
   ]
  },
  {
   "cell_type": "code",
   "execution_count": 13,
   "metadata": {},
   "outputs": [],
   "source": [
    "with open(\"../data/jobs_names.csv\",\"w\",encoding=\"utf-8\") as file:\n",
    "    for job in jobs:\n",
    "        file.write(job+\"\\n\")"
   ]
  },
  {
   "cell_type": "code",
   "execution_count": 14,
   "metadata": {},
   "outputs": [
    {
     "name": "stdout",
     "output_type": "stream",
     "text": [
      "10401 8 21238 15\n",
      "Obecné dovednosti\n",
      "\"Počítačová způsobilost\", \"Numerická způsobilost\", \"Jazyková způsobilost v dalším cizím jazyce\", \"Jazyková způsobilost v češtině\", \"Ekonomické povědomí\", \"Právní povědomí\", \"Jazyková způsobilost v angličtině\", \"Způsobilost k řízení osobního automobilu\", \n",
      "Měkké kompetence\n",
      "\"Celoživotní učení\", \"Zvládání zátěže\", \"Samostatnost\", \"Objevování a orientace v informacích\", \"Kooperace (spolupráce)\", \"Uspokojování zákaznických potřeb\", \"Kreativita\", \"Aktivní přístup\", \"Flexibilita\", \"Plánování a organizování práce\", \"Vedení lidí (leadership)\", \"Výkonnost\", \"Ovlivňování ostatních\", \"Efektivní komunikace\", \"Řešení problémů\", "
     ]
    }
   ],
   "source": [
    "obecne = []\n",
    "mekke = []\n",
    "for job in jobs:\n",
    "    for skill in jobs[job][\"skills\"][\"obecne\"]:\n",
    "        obecne.append(skill)\n",
    "    for skill in jobs[job][\"skills\"][\"mekke\"]:\n",
    "        mekke.append(skill)\n",
    "print(len(obecne), len(set(obecne)), len(mekke), len(set(mekke)))\n",
    "print(\"Obecné dovednosti\")\n",
    "for skill in set(obecne):\n",
    "    print('\"' + skill + '\"', end=\", \")\n",
    "print(\"\\nMěkké kompetence\")\n",
    "for skill in set(mekke):\n",
    "    print('\"' + skill + '\"', end=\", \")"
   ]
  },
  {
   "cell_type": "code",
   "execution_count": 16,
   "metadata": {},
   "outputs": [],
   "source": [
    "for job in jobs:\n",
    "    filename = unidecode.unidecode(job).lower().replace(\" \",\"_\").replace('\"',\"\") + \".json\"\n",
    "    with open(\"../jobs_data/\" + filename,\"w\",encoding=\"utf-8\") as file:\n",
    "        file.write(json.dumps(jobs[job][\"skills\"], ensure_ascii=False))"
   ]
  },
  {
   "cell_type": "code",
   "execution_count": null,
   "metadata": {},
   "outputs": [],
   "source": [
    "skills = []\n",
    "for job in jobs:\n",
    "    for skill in jobs[job][\"skills\"][\"odb_zna\"]:\n",
    "        skills.append(skill)\n",
    "print(len(skills))\n",
    "print(len(set(skills)))\n"
   ]
  }
 ],
 "metadata": {
  "kernelspec": {
   "display_name": "Python 3",
   "language": "python",
   "name": "python3"
  },
  "language_info": {
   "codemirror_mode": {
    "name": "ipython",
    "version": 3
   },
   "file_extension": ".py",
   "mimetype": "text/x-python",
   "name": "python",
   "nbconvert_exporter": "python",
   "pygments_lexer": "ipython3",
   "version": "3.7.0"
  }
 },
 "nbformat": 4,
 "nbformat_minor": 2
}
