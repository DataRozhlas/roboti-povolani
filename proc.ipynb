{
 "cells": [
  {
   "cell_type": "code",
   "execution_count": 35,
   "metadata": {},
   "outputs": [],
   "source": [
    "import json, unidecode"
   ]
  },
  {
   "cell_type": "code",
   "execution_count": 36,
   "metadata": {},
   "outputs": [],
   "source": [
    "with open(\"data/jobs.json\",encoding=\"utf-8\") as file:\n",
    "    jobs = json.loads(file.read())"
   ]
  },
  {
   "cell_type": "code",
   "execution_count": 37,
   "metadata": {},
   "outputs": [],
   "source": [
    "with open(\"data/jobs_names.csv\",\"w\",encoding=\"utf-8\") as file:\n",
    "    for job in jobs:\n",
    "        file.write(job+\"\\n\")"
   ]
  },
  {
   "cell_type": "code",
   "execution_count": 54,
   "metadata": {},
   "outputs": [
    {
     "name": "stdout",
     "output_type": "stream",
     "text": [
      "11728 9 22348 16\n",
      "{'Počítačová způsobilost', '', 'Numerická způsobilost', 'Způsobilost k řízení osobního automobilu', 'Právní povědomí', 'Jazyková způsobilost v češtině', 'Ekonomické povědomí', 'Jazyková způsobilost v angličtině', 'Jazyková způsobilost v dalším cizím jazyce'} {'', 'Objevování a orientace v informacích', 'Vedení lidí (leadership)', 'Řešení problémů', 'Ovlivňování ostatních', 'Samostatnost', 'Aktivní přístup', 'Zvládání zátěže', 'Flexibilita', 'Celoživotní učení', 'Kreativita', 'Výkonnost', 'Efektivní komunikace', 'Plánování a organizování práce', 'Kooperace (spolupráce)', 'Uspokojování zákaznických potřeb'}\n"
     ]
    }
   ],
   "source": [
    "obecne = []\n",
    "mekke = []\n",
    "for job in jobs:\n",
    "    for skill in jobs[job][\"skills\"][\"obecne\"]:\n",
    "        obecne.append(skill)\n",
    "    for skill in jobs[job][\"skills\"][\"mekke\"]:\n",
    "        mekke.append(skill)\n",
    "print(len(obecne), len(set(obecne)), len(mekke), len(set(mekke)))\n",
    "print(set(obecne), set(mekke))"
   ]
  },
  {
   "cell_type": "code",
   "execution_count": 56,
   "metadata": {},
   "outputs": [],
   "source": [
    "for job in jobs:\n",
    "    filename = unidecode.unidecode(job).lower().replace(\" \",\"_\").replace(',,',\"\").replace('\"',\"\") + \".json\"\n",
    "    with open(\"jobs_data/\" + filename,\"w\",encoding=\"utf-8\") as file:\n",
    "        file.write(json.dumps(jobs[job][\"skills\"], ensure_ascii=False))"
   ]
  },
  {
   "cell_type": "code",
   "execution_count": null,
   "metadata": {},
   "outputs": [],
   "source": [
    "skills = []\n",
    "for job in jobs:\n",
    "    for skill in jobs[job][\"skills\"][\"odb_zna\"]:\n",
    "        skills.append(skill)\n",
    "print(len(skills))\n",
    "print(len(set(skills)))\n"
   ]
  }
 ],
 "metadata": {
  "kernelspec": {
   "display_name": "Python 3",
   "language": "python",
   "name": "python3"
  },
  "language_info": {
   "codemirror_mode": {
    "name": "ipython",
    "version": 3
   },
   "file_extension": ".py",
   "mimetype": "text/x-python",
   "name": "python",
   "nbconvert_exporter": "python",
   "pygments_lexer": "ipython3",
   "version": "3.7.0"
  }
 },
 "nbformat": 4,
 "nbformat_minor":