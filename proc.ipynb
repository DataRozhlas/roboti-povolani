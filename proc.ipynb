{
 "cells": [
  {
   "cell_type": "code",
   "execution_count": 13,
   "metadata": {},
   "outputs": [],
   "source": [
    "import json, unidecode"
   ]
  },
  {
   "cell_type": "code",
   "execution_count": 6,
   "metadata": {},
   "outputs": [],
   "source": [
    "with open(\"jobs.json\",encoding=\"utf-8\") as file:\n",
    "    jobs = json.loads(file.read())"
   ]
  },
  {
   "cell_type": "code",
   "execution_count": 8,
   "metadata": {},
   "outputs": [],
   "source": [
    "with open(\"jobs_names.csv\",\"w\",encoding=\"utf-8\") as file:\n",
    "    for job in jobs:\n",
    "        file.write(job+\"\\n\")"
   ]
  },
  {
   "cell_type": "code",
   "execution_count": 27,
   "metadata": {},
   "outputs": [],
   "source": [
    "for job in jobs:\n",
    "    filename = unidecode.unidecode(job).lower().replace(\" \",\"_\").replace(',,',\"\").replace('\"',\"\") + \".json\"\n",
    "    with open(\"data/\" + filename,\"w\",encoding=\"utf-8\") as file:\n",
    "        file.write(json.dumps(jobs[job][\"skills\"], ensure_ascii=False))"
   ]
  },
  {
   "cell_type": "code",
   "execution_count": null,
   "metadata": {},
   "outputs": [],
   "source": [
    "skills = []\n",
    "for job in jobs:\n",
    "    for skill in jobs[job][\"skills\"][\"odb_zna\"]:\n",
    "        skills.append(skill)\n",
    "print(len(skills))\n",
    "print(len(set(skills)))\n"
   ]
  }
 ],
 "metadata": {
  "kernelspec": {
   "display_name": "Python 3",
   "language": "python",
   "name": "python3"
  },
  "language_info": {
   "codemirror_mode": {
    "name": "ipython",
    "version": 3
   },
   "file_extension": ".py",
   "mimetype": "text/x-python",
   "name": "python",
   "nbconvert_exporter": "python",
   "pygments_lexer": "ipython3",
   "version": "3.7.0"
  }
 },
 "nbformat": 4,
 "nbformat_minor": 2
}
